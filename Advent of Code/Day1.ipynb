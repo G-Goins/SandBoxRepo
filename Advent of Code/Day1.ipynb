{
 "cells": [
  {
   "cell_type": "code",
   "execution_count": 1,
   "metadata": {},
   "outputs": [],
   "source": [
    "import pandas as pd\n",
    "import numpy as np"
   ]
  },
  {
   "cell_type": "code",
   "execution_count": 2,
   "metadata": {},
   "outputs": [],
   "source": [
    "elf1 = [1000, 2000, 3000]\n",
    "elf2 = [4000]\n",
    "elf3 = [5000, 6000]\n",
    "elf4 = [7000, 8000, 9000]\n",
    "elf5 = [10000]"
   ]
  },
  {
   "cell_type": "code",
   "execution_count": 6,
   "metadata": {},
   "outputs": [],
   "source": [
    "total_elf1 = sum(elf1)\n",
    "total_elf2 = sum(elf2)\n",
    "total_elf3 = sum(elf3)\n",
    "total_elf4 = sum(elf4)\n",
    "total_elf5 = sum(elf5)\n",
    "\n",
    "elves = [total_elf1, total_elf2, total_elf3, total_elf4, total_elf5]"
   ]
  },
  {
   "cell_type": "code",
   "execution_count": 8,
   "metadata": {},
   "outputs": [
    {
     "data": {
      "text/plain": [
       "24000"
      ]
     },
     "execution_count": 8,
     "metadata": {},
     "output_type": "execute_result"
    }
   ],
   "source": [
    "max(elves)"
   ]
  }
 ],
 "metadata": {
  "kernelspec": {
   "display_name": "Python 3",
   "language": "python",
   "name": "python3"
  },
  "language_info": {
   "codemirror_mode": {
    "name": "ipython",
    "version": 3
   },
   "file_extension": ".py",
   "mimetype": "text/x-python",
   "name": "python",
   "nbconvert_exporter": "python",
   "pygments_lexer": "ipython3",
   "version": "3.9.13"
  },
  "orig_nbformat": 4,
  "vscode": {
   "interpreter": {
    "hash": "8d7dd4004dd509336f74bd65661cca9dbf88803210fff23e69c112b3d0832d82"
   }
  }
 },
 "nbformat": 4,
 "nbformat_minor": 2
}
